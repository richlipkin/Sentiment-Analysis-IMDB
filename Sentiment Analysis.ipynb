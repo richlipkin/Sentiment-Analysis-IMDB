{
 "cells": [
  {
   "cell_type": "markdown",
   "metadata": {},
   "source": [
    "# Machine Learning for Text Processing and Sentiment Analysis\n",
    "\n",
    "## Richard Lipkin, PhD (richlipkin@gmail.com)\n",
    "\n",
    "#### Purpose: To use text processing techniques on the training set from the [IMDB Large Movie Review Dataset](http://ai.stanford.edu/~amaas/data/sentiment/) and train a machine learning classifier to perform sentiment analysis on the test set.\n",
    "\n",
    "Text processing and sentiment analysis are common topics of machine learning applications. Therefore, this notebook extends the techniques employed by previous projects. The following sources were valuable in the preparation of this work:\n",
    "\n",
    "1. [Risueño T. What Is the Difference between Stemming and Lemmatization? 2018.](https://blog.bitext.com/what-is-the-difference-between-stemming-and-lemmatization/)\n",
    "1. [Andrew L. Maas, Raymond E. Daly, Peter T. Pham, Dan Huang, Andrew Y. Ng, and Christopher Potts. Learning Word Vectors for Sentiment Analysis. The 49th Annual Meeting of the Association for Computational Linguistics (ACL 2011). 2011.](http://ai.stanford.edu/~amaas/papers/wvSent_acl2011.pdf)\n",
    "1. [Natural Language Toolkit Project. Natural Language Toolkit Documentation. 2017.](https://github.com/nltk/nltk/wiki)\n",
    "1. [Kub A. Sentiment Analysis with Python (Part 1). 2018.](https://towardsdatascience.com/sentiment-analysis-with-python-part-1-5ce197074184)\n",
    "1. [Nabi J. Machine Learning - Text Processing. 2018.](https://towardsdatascience.com/machine-learning-text-processing-1d5a2d638958)\n",
    "1. [Scikit-learn Developers. Working with Text Data. 2017.](http://scikit-learn.org/stable/tutorial/text_analytics/working_with_text_data.html)\n",
    "1. [Scikit-learn Developers. Tuning the Hyper-Parameters of an Estimator. 2017.](http://scikit-learn.org/stable/modules/grid_search.html#randomized-parameter-optimization)"
   ]
  },
  {
   "cell_type": "markdown",
   "metadata": {},
   "source": [
    "## 0. Import\n",
    "Let's get started by importing all the packages we will need."
   ]
  },
  {
   "cell_type": "code",
   "execution_count": 1,
   "metadata": {},
   "outputs": [],
   "source": [
    "import pandas as pd\n",
    "import sys  \n",
    "import os\n",
    "import io\n",
    "import re\n",
    "import nltk\n",
    "from nltk.tokenize import word_tokenize\n",
    "from nltk.corpus import stopwords\n",
    "from wordcloud import WordCloud\n",
    "import matplotlib.pyplot as plt\n",
    "from sklearn.feature_extraction.text import TfidfTransformer\n",
    "from sklearn.feature_extraction.text import TfidfVectorizer\n",
    "from sklearn.naive_bayes import MultinomialNB\n",
    "from  sklearn.metrics import classification_report\n",
    "from sklearn.metrics import accuracy_score"
   ]
  },
  {
   "cell_type": "markdown",
   "metadata": {},
   "source": [
    "## 1. Read in review data\n",
    "\n",
    "Next, we read in the text files according to the directory structure of the dataset. We incorporate the labels as 1 and 0 for positive and negative reviews, respectively. We save the raw input to a CSV and print the head of the dataframe to verify correct input. "
   ]
  },
  {
   "cell_type": "code",
   "execution_count": 2,
   "metadata": {
    "scrolled": true
   },
   "outputs": [],
   "source": [
    "# set default encoding to utf8  \n",
    "reload(sys)  \n",
    "sys.setdefaultencoding('utf8')\n",
    "\n",
    "folder = 'aclImdb'\n",
    "labels = {'pos': 1, 'neg': 0}\n",
    "df = pd.DataFrame()\n",
    "for f in ('test', 'train'):    \n",
    "    for l in ('pos', 'neg'):\n",
    "        path = os.path.join(folder, f, l)\n",
    "        for file in os.listdir (path) :\n",
    "            with io.open(os.path.join(path, file),'r',encoding='utf-8') as infile:\n",
    "                txt = infile.read()\n",
    "            df = df.append([[txt, labels[l]]],ignore_index=True)\n",
    "df.columns = ['review', 'sentiment']\n",
    "df.to_csv('movie_review_data.csv', index=False, encoding='utf-8')"
   ]
  },
  {
   "cell_type": "code",
   "execution_count": 3,
   "metadata": {},
   "outputs": [
    {
     "data": {
      "text/html": [
       "<div>\n",
       "<style scoped>\n",
       "    .dataframe tbody tr th:only-of-type {\n",
       "        vertical-align: middle;\n",
       "    }\n",
       "\n",
       "    .dataframe tbody tr th {\n",
       "        vertical-align: top;\n",
       "    }\n",
       "\n",
       "    .dataframe thead th {\n",
       "        text-align: right;\n",
       "    }\n",
       "</style>\n",
       "<table border=\"1\" class=\"dataframe\">\n",
       "  <thead>\n",
       "    <tr style=\"text-align: right;\">\n",
       "      <th></th>\n",
       "      <th>review</th>\n",
       "      <th>sentiment</th>\n",
       "    </tr>\n",
       "  </thead>\n",
       "  <tbody>\n",
       "    <tr>\n",
       "      <th>0</th>\n",
       "      <td>I went and saw this movie last night after bei...</td>\n",
       "      <td>1</td>\n",
       "    </tr>\n",
       "    <tr>\n",
       "      <th>1</th>\n",
       "      <td>Actor turned director Bill Paxton follows up h...</td>\n",
       "      <td>1</td>\n",
       "    </tr>\n",
       "    <tr>\n",
       "      <th>2</th>\n",
       "      <td>As a recreational golfer with some knowledge o...</td>\n",
       "      <td>1</td>\n",
       "    </tr>\n",
       "    <tr>\n",
       "      <th>3</th>\n",
       "      <td>I saw this film in a sneak preview, and it is ...</td>\n",
       "      <td>1</td>\n",
       "    </tr>\n",
       "    <tr>\n",
       "      <th>4</th>\n",
       "      <td>Bill Paxton has taken the true story of the 19...</td>\n",
       "      <td>1</td>\n",
       "    </tr>\n",
       "  </tbody>\n",
       "</table>\n",
       "</div>"
      ],
      "text/plain": [
       "                                              review  sentiment\n",
       "0  I went and saw this movie last night after bei...          1\n",
       "1  Actor turned director Bill Paxton follows up h...          1\n",
       "2  As a recreational golfer with some knowledge o...          1\n",
       "3  I saw this film in a sneak preview, and it is ...          1\n",
       "4  Bill Paxton has taken the true story of the 19...          1"
      ]
     },
     "execution_count": 3,
     "metadata": {},
     "output_type": "execute_result"
    }
   ],
   "source": [
    "df.head()"
   ]
  },
  {
   "cell_type": "markdown",
   "metadata": {},
   "source": [
    "## 2. Tokenize\n",
    "\n",
    "We use the tokenize function to split the review text strings into a series of words."
   ]
  },
  {
   "cell_type": "code",
   "execution_count": 4,
   "metadata": {},
   "outputs": [],
   "source": [
    "nltk.download('punkt')\n",
    "\n",
    "reviews = df.review.str.cat(sep=' ')\n",
    "tokens = word_tokenize(reviews)"
   ]
  },
  {
   "cell_type": "markdown",
   "metadata": {},
   "source": [
    "## 3. Create a frequency distribution of tokens\n",
    "\n",
    "We output a list of the 50 most frequently occurring tokens in order. We see that many of the most common tokens at this stage probably have little to do with sentiment. There is lots of punctuation, single- and 2-letter words, and words like \"and\" and \"the.\" We will clean the results in the next step."
   ]
  },
  {
   "cell_type": "code",
   "execution_count": 5,
   "metadata": {},
   "outputs": [
    {
     "data": {
      "text/plain": [
       "[u'the',\n",
       " u',',\n",
       " u'.',\n",
       " u'a',\n",
       " u'and',\n",
       " u'of',\n",
       " u'to',\n",
       " u'is',\n",
       " u'/',\n",
       " u'>',\n",
       " u'<',\n",
       " u'br',\n",
       " u'in',\n",
       " u'I',\n",
       " u'it',\n",
       " u'that',\n",
       " u\"'s\",\n",
       " u'this',\n",
       " u'was',\n",
       " u'The',\n",
       " u'as',\n",
       " u'with',\n",
       " u'movie',\n",
       " u'for',\n",
       " u'film',\n",
       " u')',\n",
       " u'(',\n",
       " u'but',\n",
       " u\"''\",\n",
       " u\"n't\",\n",
       " u'``',\n",
       " u'on',\n",
       " u'you',\n",
       " u'are',\n",
       " u'not',\n",
       " u'have',\n",
       " u'his',\n",
       " u'be',\n",
       " u'!',\n",
       " u'he',\n",
       " u'one',\n",
       " u'at',\n",
       " u'by',\n",
       " u'an',\n",
       " u'all',\n",
       " u'who',\n",
       " u'they',\n",
       " u'from',\n",
       " u'like',\n",
       " u'It']"
      ]
     },
     "execution_count": 5,
     "metadata": {},
     "output_type": "execute_result"
    }
   ],
   "source": [
    "vocabulary = set(tokens)\n",
    "frequency_dist = nltk.FreqDist(tokens)\n",
    "sorted(frequency_dist,key=frequency_dist.__getitem__, reverse=True)[0:50]"
   ]
  },
  {
   "cell_type": "markdown",
   "metadata": {},
   "source": [
    "## 4. Clean the list of tokens\n",
    "\n",
    "Next, we filter the list of tokens to remove any terms that are probably not related to sentiment. We do this by removing tokens found in the NLTK \"stopwords\" corpus from the list of tokens. We also filter out several other short passages and punctuation. By doing this, we arrive at a list of 50 most common tokens that looks significantly better."
   ]
  },
  {
   "cell_type": "code",
   "execution_count": 6,
   "metadata": {},
   "outputs": [
    {
     "data": {
      "text/plain": [
       "[u'movie',\n",
       " u'film',\n",
       " u'one',\n",
       " u'like',\n",
       " u'good',\n",
       " u'would',\n",
       " u'time',\n",
       " u'really',\n",
       " u'see',\n",
       " u'even',\n",
       " u'story',\n",
       " u'much',\n",
       " u'could',\n",
       " u'get',\n",
       " u'people',\n",
       " u'bad',\n",
       " u'great',\n",
       " u'well',\n",
       " u'first',\n",
       " u'made',\n",
       " u'also',\n",
       " u'make',\n",
       " u'way',\n",
       " u'movies',\n",
       " u'But',\n",
       " u'think',\n",
       " u'characters',\n",
       " u'character',\n",
       " u'films',\n",
       " u'seen',\n",
       " u'watch',\n",
       " u'many',\n",
       " u'acting',\n",
       " u'plot',\n",
       " u'know',\n",
       " u'never',\n",
       " u'two',\n",
       " u'There',\n",
       " u'show',\n",
       " u'little',\n",
       " u'love',\n",
       " u'best',\n",
       " u'life',\n",
       " u'ever',\n",
       " u'better',\n",
       " u'say',\n",
       " u'scene',\n",
       " u'He',\n",
       " u'end',\n",
       " u'scenes']"
      ]
     },
     "execution_count": 6,
     "metadata": {},
     "output_type": "execute_result"
    }
   ],
   "source": [
    "nltk.download('stopwords')\n",
    "stop_words = set(stopwords.words('english'))\n",
    "tokens = [w for w in tokens if ((not (str(w)) in stop_words) and not (str(w) in ['br','I','\\'s','The','n\\'t','It','This','...','And','A','In','If','--']) and not ((str(w)) in ',./><()``!?:-;\\'\\''))]\n",
    "\n",
    "frequency_dist = nltk.FreqDist(tokens)\n",
    "sorted(frequency_dist,key=frequency_dist.__getitem__, reverse=True)[0:50]"
   ]
  },
  {
   "cell_type": "markdown",
   "metadata": {},
   "source": [
    "## 5. WordCloud of cleaned tokens list\n",
    "\n",
    "We don't use this frequency distribution in the prediction model below, so let's visualize the results. We use the WordCloud library to create a visualization of the 50 most common tokens that are actually likely to be related to sentiment (i.e., after punctuation, very short words, and stopwords are removed)."
   ]
  },
  {
   "cell_type": "code",
   "execution_count": 7,
   "metadata": {
    "scrolled": true
   },
   "outputs": [
    {
     "data": {
      "image/png": "[encoded data removed]",
      "text/plain": [
       "<Figure size 432x288 with 1 Axes>"
      ]
     },
     "metadata": {},
     "output_type": "display_data"
    }
   ],
   "source": [
    "wordcloud = WordCloud().generate_from_frequencies(frequency_dist)\n",
    "plt.imshow(wordcloud)\n",
    "plt.axis(\"off\")\n",
    "plt.show()"
   ]
  },
  {
   "cell_type": "markdown",
   "metadata": {},
   "source": [
    "## 6. Define preprocessing functions for training and test datasets\n",
    "Now we define the preprocessing functions to clean up the complete review strings.\n",
    "\n",
    "First, we define the replacestopwords function to replace stopwords from the strings containing full reviews. Initially, we split the text into a list of individual words, and then we add the words that are not stopwords to a new word list. Finally, we join that list of words together into a string and return the string.\n",
    "\n",
    "Then, we set up variables REPLACE_NO_SPACE and REPLACE_WITH_SPACE as calls to a function that removes other unwanted noisy features, such as punctuation.\n",
    "\n",
    "We also define the preprocess_review function to apply all of this processing to each review via a unified function call."
   ]
  },
  {
   "cell_type": "code",
   "execution_count": 8,
   "metadata": {},
   "outputs": [],
   "source": [
    "def replacestopwords(review):\n",
    "    text_add=[]\n",
    "    text=review.split(' ') # split the text into a list of individual words\n",
    "    for i in text:\n",
    "        if i not in stop_words:\n",
    "            text_add.append(i) # add the words that are not stopwords to a new list of words\n",
    "    text_str= ' '.join(text_add) # join the stopword-less list of words together into a new string\n",
    "    return text_str\n",
    "\n",
    "REPLACE_NO_SPACE = re.compile(\"(\\.)|(\\;)|(\\:)|(\\!)|(\\')|(\\?)|(\\,)|(\\\")|(\\()|(\\))|(\\[)|(\\])\")\n",
    "REPLACE_WITH_SPACE = re.compile(\"(<br\\s*/><br\\s*/>)|(\\-)|(\\/)\")\n",
    "\n",
    "def preprocess_review(review):\n",
    "    review = [REPLACE_NO_SPACE.sub(\"\", review.lower())]\n",
    "    review = [REPLACE_WITH_SPACE.sub(\" \", str(review))]\n",
    "    review = replacestopwords(str(review))\n",
    "    return review"
   ]
  },
  {
   "cell_type": "markdown",
   "metadata": {},
   "source": [
    "## 7. Define training and test sets (raw and clean)\n",
    "\n",
    "Next, we define the training and test sets both with and without preprocessing (raw and clean). There are 25,000 reviews for training and 25,000 for testing. We use the split between training and test sets that is provided by the creators of the dataset according to the directory structure from which the data were initially loaded. \n",
    "\n",
    "To generate the clean datasets, we call the preprocessing function and subtract the first 4 and last 4 characters from each entry. We do this because the unicode-to-string conversions employed in the preprocessing algorithm insert unwanted brackets and quotes at the beginning and end of each review.\n",
    "\n",
    "Then, we output an example of both the raw and preprocessed versions of a single review. We can see that capital letters, punctuation, and stopwords have been correctly removed from the review in the preprocessed version."
   ]
  },
  {
   "cell_type": "code",
   "execution_count": 9,
   "metadata": {
    "scrolled": true
   },
   "outputs": [
    {
     "data": {
      "text/plain": [
       "\"I went and saw this movie last night after being coaxed to by a few friends of mine. I'll admit that I was reluctant to see it because from what I knew of Ashton Kutcher he was only able to do comedy. I was wrong. Kutcher played the character of Jake Fischer very well, and Kevin Costner played Ben Randall with such professionalism. The sign of a good movie is that it can toy with our emotions. This one did exactly that. The entire theater (which was sold out) was overcome by laughter during the first half of the movie, and were moved to tears during the second half. While exiting the theater I not only saw many women in tears, but many full grown men as well, trying desperately not to let anyone see them crying. This movie was great, and I suggest that you go see it before you judge.\""
      ]
     },
     "execution_count": 9,
     "metadata": {},
     "output_type": "execute_result"
    }
   ],
   "source": [
    "X_train = df.loc[:24999, 'review'].values\n",
    "y_train = df.loc[:24999, 'sentiment'].values\n",
    "X_test = df.loc[25000:, 'review'].values\n",
    "y_test = df.loc[25000:, 'sentiment'].values\n",
    "\n",
    "X_train_clean=[]\n",
    "X_test_clean=[]\n",
    "\n",
    "for i in range(len(X_train)):\n",
    "    add=unicode(str(preprocess_review(str(X_train[i]))), 'utf-8')\n",
    "    X_train_clean.append(add[4:len(add)-4]) # Remove the first and last 4 characters\n",
    "for j in range(len(X_test)):\n",
    "    add=unicode(str(preprocess_review(str(X_test[j]))), 'utf-8')\n",
    "    X_test_clean.append(add[4:len(add)-4])\n",
    "    \n",
    "str(X_train[0]) # Before cleaning"
   ]
  },
  {
   "cell_type": "code",
   "execution_count": 10,
   "metadata": {},
   "outputs": [
    {
     "data": {
      "text/plain": [
       "'i went saw movie last night coaxed friends mine ill admit reluctant see knew ashton kutcher able comedy wrong kutcher played character jake fischer well kevin costner played ben randall professionalism sign good movie toy emotions one exactly entire theater sold overcome laughter first half movie moved tears second half exiting theater saw many women tears many full grown men well trying desperately let anyone see crying movie great suggest go see judge'"
      ]
     },
     "execution_count": 10,
     "metadata": {},
     "output_type": "execute_result"
    }
   ],
   "source": [
    "str(X_train_clean[0]) # After cleaning"
   ]
  },
  {
   "cell_type": "markdown",
   "metadata": {},
   "source": [
    "## 8. Convert the text corpus into feature vectors\n",
    "\n",
    "We use the TF-IDF vectorizer and transformer to convert the text corpus into feature vectors. This is a method of extracting features from the body of text. We use the \"Bag of Words\" approach, which creates a vocabulary of words in the text corpus and represents each word's presence or absence in each review numerically.\n",
    "\n",
    "Here, we use the Term Frequency-Inverse Document Frequency technique. We take the term frequency, TF (the number of times a term appears in the document) and multiply by the inverse document frequency, IDF = log (N/n), where N is the total number of reviews and n is the number of reviews in which the term appears. IDF is greater for rare terms, so the expression TF * IDF has greater values for terms that are distinctly associated with a given review as opposed to other reviews."
   ]
  },
  {
   "cell_type": "code",
   "execution_count": 11,
   "metadata": {},
   "outputs": [],
   "source": [
    "vectorizer = TfidfVectorizer()\n",
    "\n",
    "train_vectors = vectorizer.fit_transform(X_train)\n",
    "test_vectors = vectorizer.transform(X_test)\n",
    "\n",
    "train_vectors_clean = vectorizer.fit_transform(X_train_clean)\n",
    "test_vectors_clean = vectorizer.transform(X_test_clean)"
   ]
  },
  {
   "cell_type": "markdown",
   "metadata": {},
   "source": [
    "## 9. Train models and use them to predict sentiment of passages in the test set\n",
    "\n",
    "Next, we use the training set to train the models we will use to predict the sentiment of the test set reviews. We select the multinomial Naive Bayes (NB) classifier and train models using both the raw and preprocessed datasets. Then, we use the trained model to predict the sentiment of passages in the test set for both the raw and preprocessed datasets."
   ]
  },
  {
   "cell_type": "code",
   "execution_count": 12,
   "metadata": {},
   "outputs": [],
   "source": [
    "clf = MultinomialNB().fit(train_vectors, y_train)\n",
    "clf_clean = MultinomialNB().fit(train_vectors_clean, y_train)\n",
    "\n",
    "predicted = clf.predict(test_vectors)\n",
    "predicted_clean = clf_clean.predict(test_vectors_clean)"
   ]
  },
  {
   "cell_type": "markdown",
   "metadata": {},
   "source": [
    "## 10. Output results using NB classifier\n",
    "\n",
    "Then we output the classification report and accuracy score using the raw and preprocessed datasets, respectively.\n",
    "\n",
    "The accuracy was 83.7% and 83.9% for the raw and preprocessed datasets, respectively."
   ]
  },
  {
   "cell_type": "code",
   "execution_count": 13,
   "metadata": {
    "scrolled": true
   },
   "outputs": [
    {
     "data": {
      "text/plain": [
       "[u'precision    recall  f1-score   support',\n",
       " u'',\n",
       " u'          0       0.81      0.88      0.84     12500',\n",
       " u'          1       0.87      0.79      0.83     12500',\n",
       " u'',\n",
       " u'avg / total       0.84      0.84      0.84     25000']"
      ]
     },
     "execution_count": 13,
     "metadata": {},
     "output_type": "execute_result"
    }
   ],
   "source": [
    "classification_report(y_test,predicted).encode(\"utf-8\").strip().decode().splitlines()"
   ]
  },
  {
   "cell_type": "code",
   "execution_count": 14,
   "metadata": {},
   "outputs": [
    {
     "data": {
      "text/plain": [
       "0.83664"
      ]
     },
     "execution_count": 14,
     "metadata": {},
     "output_type": "execute_result"
    }
   ],
   "source": [
    "accuracy_score(y_test,predicted)"
   ]
  },
  {
   "cell_type": "code",
   "execution_count": 15,
   "metadata": {},
   "outputs": [
    {
     "data": {
      "text/plain": [
       "[u'precision    recall  f1-score   support',\n",
       " u'',\n",
       " u'          0       0.81      0.88      0.85     12500',\n",
       " u'          1       0.87      0.80      0.83     12500',\n",
       " u'',\n",
       " u'avg / total       0.84      0.84      0.84     25000']"
      ]
     },
     "execution_count": 15,
     "metadata": {},
     "output_type": "execute_result"
    }
   ],
   "source": [
    "classification_report(y_test,predicted_clean).encode(\"utf-8\").strip().decode().splitlines()"
   ]
  },
  {
   "cell_type": "code",
   "execution_count": 16,
   "metadata": {
    "scrolled": true
   },
   "outputs": [
    {
     "data": {
      "text/plain": [
       "0.83884"
      ]
     },
     "execution_count": 16,
     "metadata": {},
     "output_type": "execute_result"
    }
   ],
   "source": [
    "accuracy_score(y_test,predicted_clean)"
   ]
  },
  {
   "cell_type": "markdown",
   "metadata": {},
   "source": [
    "## 11. Support Vector Machine (SVM)\n",
    "\n",
    "We repeat the above analysis using the Support Vector Machine classifier. This improved the results to 84.3% and 84.6% for the raw and preprocessed datasets, respectively."
   ]
  },
  {
   "cell_type": "code",
   "execution_count": 17,
   "metadata": {},
   "outputs": [],
   "source": [
    "from sklearn.linear_model import SGDClassifier\n",
    "from sklearn.pipeline import Pipeline\n",
    "from sklearn.feature_extraction.text import CountVectorizer\n",
    "\n",
    "text_clf = Pipeline([('vect', CountVectorizer()),\n",
    "                     ('tfidf', TfidfTransformer()),\n",
    "                     ('clf', SGDClassifier(loss='hinge', penalty='l2',\n",
    "                                           alpha=1e-3, random_state=42,\n",
    "                                           max_iter=5, tol=None))\n",
    "                    ])\n",
    "                     \n",
    "text_clf.fit(X_train, y_train)\n",
    "predicted_clf = text_clf.predict(X_test)\n",
    "\n",
    "text_clf_clean = Pipeline([('vect', CountVectorizer()),\n",
    "                     ('tfidf', TfidfTransformer()),\n",
    "                     ('clf', SGDClassifier(loss='hinge', penalty='l2',\n",
    "                                           alpha=1e-3, random_state=42,\n",
    "                                           max_iter=5, tol=None))\n",
    "                    ])\n",
    "                     \n",
    "text_clf_clean.fit(X_train_clean, y_train)\n",
    "predicted_clf_clean = text_clf.predict(X_test_clean)"
   ]
  },
  {
   "cell_type": "code",
   "execution_count": 18,
   "metadata": {},
   "outputs": [
    {
     "data": {
      "text/plain": [
       "[u'precision    recall  f1-score   support',\n",
       " u'',\n",
       " u'          0       0.87      0.80      0.84     12500',\n",
       " u'          1       0.82      0.88      0.85     12500',\n",
       " u'',\n",
       " u'avg / total       0.85      0.84      0.84     25000']"
      ]
     },
     "execution_count": 18,
     "metadata": {},
     "output_type": "execute_result"
    }
   ],
   "source": [
    "classification_report(y_test,predicted_clf).encode(\"utf-8\").strip().decode().splitlines()"
   ]
  },
  {
   "cell_type": "code",
   "execution_count": 19,
   "metadata": {},
   "outputs": [
    {
     "data": {
      "text/plain": [
       "0.84268"
      ]
     },
     "execution_count": 19,
     "metadata": {},
     "output_type": "execute_result"
    }
   ],
   "source": [
    "accuracy_score(y_test,predicted_clf)"
   ]
  },
  {
   "cell_type": "code",
   "execution_count": 20,
   "metadata": {},
   "outputs": [
    {
     "data": {
      "text/plain": [
       "[u'precision    recall  f1-score   support',\n",
       " u'',\n",
       " u'          0       0.91      0.77      0.83     12500',\n",
       " u'          1       0.80      0.92      0.86     12500',\n",
       " u'',\n",
       " u'avg / total       0.85      0.85      0.85     25000']"
      ]
     },
     "execution_count": 20,
     "metadata": {},
     "output_type": "execute_result"
    }
   ],
   "source": [
    "classification_report(y_test,predicted_clf_clean).encode(\"utf-8\").strip().decode().splitlines()"
   ]
  },
  {
   "cell_type": "code",
   "execution_count": 21,
   "metadata": {},
   "outputs": [
    {
     "data": {
      "text/plain": [
       "0.84648"
      ]
     },
     "execution_count": 21,
     "metadata": {},
     "output_type": "execute_result"
    }
   ],
   "source": [
    "accuracy_score(y_test,predicted_clf_clean)"
   ]
  },
  {
   "cell_type": "markdown",
   "metadata": {},
   "source": [
    "## 12. Setup for parameter tuning using grid search \n",
    "   \n",
    "Because SVM had better results than NB using default settings, we perform grid search cross validation (CV) to find the best possible parameters  out of various options using SVM.\n",
    "\n",
    "In this section we establish pipelines for the parameter grid search using the raw and cleaned datasets. We also list the specific parameters and values that will be varied during the grid search.\n",
    "\n",
    "The estimator.get_params().keys() command shows the available parameters.\n",
    "\n",
    "The parameters we vary are:\n",
    "- Whether or not we use IDF in the TF-IDF algorithm (True, False)\n",
    "- The regularization type (L1 or L2 \"Ridge\")\n",
    "- The maximum number of regularization iterations (5, 10)"
   ]
  },
  {
   "cell_type": "code",
   "execution_count": 22,
   "metadata": {
    "scrolled": true
   },
   "outputs": [
    {
     "data": {
      "text/plain": [
       "['clf__penalty',\n",
       " 'clf__max_iter',\n",
       " 'clf__warm_start',\n",
       " 'clf__shuffle',\n",
       " 'clf__verbose',\n",
       " 'tfidf__use_idf',\n",
       " 'clf__random_state',\n",
       " 'clf__power_t',\n",
       " 'clf__n_jobs',\n",
       " 'vect__vocabulary',\n",
       " 'clf__alpha',\n",
       " 'vect__analyzer',\n",
       " 'clf__l1_ratio',\n",
       " 'tfidf__smooth_idf',\n",
       " 'tfidf__sublinear_tf',\n",
       " 'vect__max_df',\n",
       " 'clf',\n",
       " 'clf__n_iter',\n",
       " 'vect__lowercase',\n",
       " 'vect__binary',\n",
       " 'vect__stop_words',\n",
       " 'memory',\n",
       " 'vect__encoding',\n",
       " 'vect__max_features',\n",
       " 'vect__dtype',\n",
       " 'clf__average',\n",
       " 'vect__strip_accents',\n",
       " 'clf__learning_rate',\n",
       " 'vect',\n",
       " 'clf__loss',\n",
       " 'vect__min_df',\n",
       " 'tfidf__norm',\n",
       " 'vect__tokenizer',\n",
       " 'clf__eta0',\n",
       " 'clf__tol',\n",
       " 'vect__input',\n",
       " 'vect__ngram_range',\n",
       " 'tfidf',\n",
       " 'vect__preprocessor',\n",
       " 'steps',\n",
       " 'clf__fit_intercept',\n",
       " 'vect__decode_error',\n",
       " 'clf__epsilon',\n",
       " 'clf__class_weight',\n",
       " 'vect__token_pattern']"
      ]
     },
     "execution_count": 22,
     "metadata": {},
     "output_type": "execute_result"
    }
   ],
   "source": [
    "from sklearn.model_selection import GridSearchCV\n",
    "\n",
    "text_clf_cv = Pipeline([('vect', CountVectorizer()),\n",
    "                        ('tfidf', TfidfTransformer()),\n",
    "                        ('clf', SGDClassifier(loss='hinge', penalty='l2',\n",
    "                                              alpha=1e-3, random_state=42,\n",
    "                                              max_iter=5, tol=None))\n",
    "                       ])\n",
    "\n",
    "text_clf_clean_cv = Pipeline([('vect', CountVectorizer()),\n",
    "                        ('tfidf', TfidfTransformer()),\n",
    "                        ('clf', SGDClassifier(loss='hinge', penalty='l2',\n",
    "                                              alpha=1e-3, random_state=42,\n",
    "                                              max_iter=5, tol=None))\n",
    "                       ])\n",
    "                     \n",
    "\n",
    "parameters = {'tfidf__use_idf': (True, False),\n",
    "              'clf__penalty': ('l1','l2'),\n",
    "              'clf__max_iter': (5,10),\n",
    "}\n",
    "\n",
    "text_clf_cv.get_params().keys()"
   ]
  },
  {
   "cell_type": "markdown",
   "metadata": {},
   "source": [
    "## 13. Execute parameter tuning using grid search and output results\n",
    "\n",
    "We can see that the best parameters found do not improve the results much compared with default values.\n",
    "\n",
    "The best values were max iterations = 10, regularization = L2, and use IDF = true."
   ]
  },
  {
   "cell_type": "code",
   "execution_count": 23,
   "metadata": {
    "scrolled": true
   },
   "outputs": [
    {
     "data": {
      "text/plain": [
       "GridSearchCV(cv=None, error_score='raise',\n",
       "       estimator=Pipeline(memory=None,\n",
       "     steps=[('vect', CountVectorizer(analyzer=u'word', binary=False, decode_error=u'strict',\n",
       "        dtype=<type 'numpy.int64'>, encoding=u'utf-8', input=u'content',\n",
       "        lowercase=True, max_df=1.0, max_features=None, min_df=1,\n",
       "        ngram_range=(1, 1), preprocessor=None, stop_words=None,\n",
       "        st...ty='l2', power_t=0.5, random_state=42, shuffle=True,\n",
       "       tol=None, verbose=0, warm_start=False))]),\n",
       "       fit_params=None, iid=True, n_jobs=-1,\n",
       "       param_grid={'clf__penalty': ('l1', 'l2'), 'tfidf__use_idf': (True, False), 'clf__max_iter': (5, 10)},\n",
       "       pre_dispatch='2*n_jobs', refit=True, return_train_score='warn',\n",
       "       scoring=None, verbose=0)"
      ]
     },
     "execution_count": 23,
     "metadata": {},
     "output_type": "execute_result"
    }
   ],
   "source": [
    "gs_clf = GridSearchCV(text_clf_cv, parameters, n_jobs=-1)\n",
    "gs_clf_clean = GridSearchCV(text_clf_clean_cv, parameters, n_jobs=-1)\n",
    "\n",
    "gs_clf.fit(X_train, y_train)\n",
    "gs_clf_clean.fit(X_train_clean, y_train)"
   ]
  },
  {
   "cell_type": "code",
   "execution_count": 24,
   "metadata": {},
   "outputs": [
    {
     "data": {
      "text/plain": [
       "0.84024"
      ]
     },
     "execution_count": 24,
     "metadata": {},
     "output_type": "execute_result"
    }
   ],
   "source": [
    "gs_clf.best_score_ "
   ]
  },
  {
   "cell_type": "code",
   "execution_count": 25,
   "metadata": {},
   "outputs": [
    {
     "data": {
      "text/plain": [
       "['clf__max_iter: 10', \"clf__penalty: 'l2'\", 'tfidf__use_idf: True']"
      ]
     },
     "execution_count": 25,
     "metadata": {},
     "output_type": "execute_result"
    }
   ],
   "source": [
    "best=[]\n",
    "for param_name in sorted(parameters.keys()):\n",
    "    best.append(\"%s: %r\" % (param_name, gs_clf.best_params_[param_name]))\n",
    "best"
   ]
  },
  {
   "cell_type": "code",
   "execution_count": 26,
   "metadata": {},
   "outputs": [
    {
     "data": {
      "text/plain": [
       "0.8446"
      ]
     },
     "execution_count": 26,
     "metadata": {},
     "output_type": "execute_result"
    }
   ],
   "source": [
    "gs_clf_clean.best_score_ "
   ]
  },
  {
   "cell_type": "code",
   "execution_count": 27,
   "metadata": {},
   "outputs": [
    {
     "data": {
      "text/plain": [
       "['clf__max_iter: 10', \"clf__penalty: 'l2'\", 'tfidf__use_idf: True']"
      ]
     },
     "execution_count": 27,
     "metadata": {},
     "output_type": "execute_result"
    }
   ],
   "source": [
    "best=[]\n",
    "for param_name in sorted(parameters.keys()):\n",
    "    best.append(\"%s: %r\" % (param_name, gs_clf_clean.best_params_[param_name]))\n",
    "best"
   ]
  },
  {
   "cell_type": "markdown",
   "metadata": {},
   "source": [
    "### 13a. Detailed summary of CV grid search for cleaned dataset\n",
    "\n",
    "We can output a detailed summary that goes into more specifics about the results for each condition and how the CV is run. We can see the scores for all 8 model fitting procedures and we can observe that the algorithm splits the employed dataset into its own internal training and test sets 3 different ways. The overall scores above are shown to be composites by observing this detailed CV summary.."
   ]
  },
  {
   "cell_type": "code",
   "execution_count": 28,
   "metadata": {},
   "outputs": [
    {
     "data": {
      "text/plain": [
       "{'mean_fit_time': array([ 9.45899995, 10.82799991, 11.19433331,  9.34966652, 10.82233334,\n",
       "        10.26533341, 11.06533337, 11.69400001]),\n",
       " 'mean_score_time': array([4.1953334 , 4.012     , 3.82200003, 3.5946668 , 2.00300002,\n",
       "        3.55833332, 4.93533333, 4.47933332]),\n",
       " 'mean_test_score': array([0.77476, 0.78736, 0.843  , 0.83912, 0.773  , 0.78812, 0.8446 ,\n",
       "        0.8398 ]),\n",
       " 'mean_train_score': array([0.77486008, 0.79296001, 0.88824007, 0.86749991, 0.77422011,\n",
       "        0.79382001, 0.88920004, 0.8673799 ]),\n",
       " 'param_clf__max_iter': masked_array(data=[5, 5, 5, 5, 10, 10, 10, 10],\n",
       "              mask=[False, False, False, False, False, False, False, False],\n",
       "        fill_value='?',\n",
       "             dtype=object),\n",
       " 'param_clf__penalty': masked_array(data=['l1', 'l1', 'l2', 'l2', 'l1', 'l1', 'l2', 'l2'],\n",
       "              mask=[False, False, False, False, False, False, False, False],\n",
       "        fill_value='?',\n",
       "             dtype=object),\n",
       " 'param_tfidf__use_idf': masked_array(data=[True, False, True, False, True, False, True, False],\n",
       "              mask=[False, False, False, False, False, False, False, False],\n",
       "        fill_value='?',\n",
       "             dtype=object),\n",
       " 'params': [{'clf__max_iter': 5, 'clf__penalty': 'l1', 'tfidf__use_idf': True},\n",
       "  {'clf__max_iter': 5, 'clf__penalty': 'l1', 'tfidf__use_idf': False},\n",
       "  {'clf__max_iter': 5, 'clf__penalty': 'l2', 'tfidf__use_idf': True},\n",
       "  {'clf__max_iter': 5, 'clf__penalty': 'l2', 'tfidf__use_idf': False},\n",
       "  {'clf__max_iter': 10, 'clf__penalty': 'l1', 'tfidf__use_idf': True},\n",
       "  {'clf__max_iter': 10, 'clf__penalty': 'l1', 'tfidf__use_idf': False},\n",
       "  {'clf__max_iter': 10, 'clf__penalty': 'l2', 'tfidf__use_idf': True},\n",
       "  {'clf__max_iter': 10, 'clf__penalty': 'l2', 'tfidf__use_idf': False}],\n",
       " 'rank_test_score': array([7, 6, 2, 4, 8, 5, 1, 3]),\n",
       " 'split0_test_score': array([0.78317735, 0.79973602, 0.84953204, 0.84485241, 0.78197744,\n",
       "        0.79913607, 0.84917207, 0.84473242]),\n",
       " 'split0_train_score': array([0.77223089, 0.79155166, 0.89127565, 0.86703468, 0.7725909 ,\n",
       "        0.79293172, 0.89193568, 0.86625465]),\n",
       " 'split1_test_score': array([0.7787377 , 0.78785697, 0.85205184, 0.84461243, 0.77633789,\n",
       "        0.78905688, 0.85445164, 0.84677226]),\n",
       " 'split1_train_score': array([0.77949118, 0.79461178, 0.88707548, 0.86559462, 0.77853114,\n",
       "        0.7949718 , 0.8874355 , 0.86601464]),\n",
       " 'split2_test_score': array([0.76236198, 0.77448392, 0.82741239, 0.82789246, 0.76068171,\n",
       "        0.77616419, 0.83017283, 0.82789246]),\n",
       " 'split2_train_score': array([0.77285817, 0.79271658, 0.88636909, 0.86987041, 0.77153828,\n",
       "        0.79355652, 0.88822894, 0.86987041]),\n",
       " 'std_fit_time': array([0.09865431, 1.47959996, 0.28163845, 0.5761275 , 0.6682865 ,\n",
       "        0.87901102, 0.72064344, 0.21503022]),\n",
       " 'std_score_time': array([0.16558247, 0.09381191, 0.40348808, 0.37321334, 0.18326124,\n",
       "        1.28583053, 0.23700403, 0.48639651]),\n",
       " 'std_test_score': array([0.00895111, 0.01031491, 0.0110687 , 0.00793872, 0.0090085 ,\n",
       "        0.00940142, 0.01042558, 0.00845998]),\n",
       " 'std_train_score': array([0.00328468, 0.00126109, 0.00216576, 0.00177631, 0.0030785 ,\n",
       "        0.00085345, 0.00196132, 0.00176378])}"
      ]
     },
     "execution_count": 28,
     "metadata": {},
     "output_type": "execute_result"
    }
   ],
   "source": [
    "gs_clf_clean.cv_results_"
   ]
  },
  {
   "cell_type": "markdown",
   "metadata": {},
   "source": [
    "## Conclusion\n",
    "\n",
    "The results indicate that using default settings, the Naive Bayes model has 83.7% and 83.9% accuracy for predicting the sentiment of any given movie review in the test set with raw and preprocessed data, respectively. The respective results for Support Vector Machine are 84.3% and 84.6%, respectively. These are decent results for such simple models. However, the preprocessing steps did not improve the results as much as expected.\n",
    "\n",
    "We then tuned the parameters of SVM using a grid search model. The grid parameter search did not improve the results much.\n",
    "\n",
    "There is room for improvement on this project. The Bag of Words model discards word ordering, so in order to take syntax and context into account, we would need to use a word embedding approach, such as Word2Vec or GloVe."
   ]
  },
  {
   "cell_type": "code",
   "execution_count": null,
   "metadata": {},
   "outputs": [],
   "source": []
  }
 ],
 "metadata": {
  "kernelspec": {
   "display_name": "Python 2",
   "language": "python",
   "name": "python2"
  },
  "language_info": {
   "codemirror_mode": {
    "name": "ipython",
    "version": 2
   },
   "file_extension": ".py",
   "mimetype": "text/x-python",
   "name": "python",
   "nbconvert_exporter": "python",
   "pygments_lexer": "ipython2",
   "version": "2.7.15"
  }
 },
 "nbformat": 4,
 "nbformat_minor": 2
}
